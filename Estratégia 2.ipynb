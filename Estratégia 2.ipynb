{
 "cells": [
  {
   "cell_type": "markdown",
   "metadata": {},
   "source": [
    "# Predição das vendas de um jogo usando Regressão Linear\n"
   ]
  },
  {
   "cell_type": "markdown",
   "metadata": {},
   "source": [
    "## O trabalho terá duas abordagens diferentes para comparações no futuro\n",
    "> 1) A primeira será preencher os dados faltantes com a média: Critic_Score, ESRB_Rating <br> <br>\n",
    "> 2) A segunda será remover todas as linhas que não possuem dados sobre a Critic_Score\n",
    "Ao final os dois resultados serão comparados"
   ]
  },
  {
   "cell_type": "markdown",
   "metadata": {},
   "source": [
    "## Segunda abordagem (Excluir linhas com dados faltantes de Critic_Score)"
   ]
  },
  {
   "cell_type": "markdown",
   "metadata": {},
   "source": [
    "## Obtendo e visualizando os dados"
   ]
  },
  {
   "cell_type": "markdown",
   "metadata": {},
   "source": [
    "### Importando o arquivo da base de dados"
   ]
  },
  {
   "cell_type": "code",
   "execution_count": 1,
   "metadata": {},
   "outputs": [],
   "source": [
    "import pandas as pd\n",
    "df = pd.read_csv('vgsales-12-4-2019.csv')"
   ]
  },
  {
   "cell_type": "markdown",
   "metadata": {},
   "source": [
    "### Dados sobre o atributo objetivo"
   ]
  },
  {
   "cell_type": "code",
   "execution_count": 2,
   "metadata": {},
   "outputs": [
    {
     "name": "stdout",
     "output_type": "stream",
     "text": [
      "Média de vendas:  0.3655029616276075\n",
      "Desvio padrão das vendas:  0.8330216180581668\n",
      "Número de jogos:  55792\n",
      "Número de jogos com dados sobre vendas:  19415\n"
     ]
    }
   ],
   "source": [
    "print('Média de vendas: ', df['Global_Sales'].mean())\n",
    "print('Desvio padrão das vendas: ', df['Global_Sales'].std())\n",
    "print('Número de jogos: ',len(df))\n",
    "print('Número de jogos com dados sobre vendas: ', len(df) - len(df[df['Global_Sales'].isnull()]))"
   ]
  },
  {
   "cell_type": "markdown",
   "metadata": {},
   "source": [
    "### Visualizando a estrutura da base de dados"
   ]
  },
  {
   "cell_type": "markdown",
   "metadata": {},
   "source": [
    "#### Colunas presentes na base de dados"
   ]
  },
  {
   "cell_type": "code",
   "execution_count": 3,
   "metadata": {},
   "outputs": [
    {
     "name": "stdout",
     "output_type": "stream",
     "text": [
      "['Rank' 'Name' 'basename' 'Genre' 'ESRB_Rating' 'Platform' 'Publisher'\n",
      " 'Developer' 'VGChartz_Score' 'Critic_Score' 'User_Score' 'Total_Shipped'\n",
      " 'Global_Sales' 'NA_Sales' 'PAL_Sales' 'JP_Sales' 'Other_Sales' 'Year'\n",
      " 'Last_Update' 'url' 'status' 'Vgchartzscore' 'img_url']\n"
     ]
    }
   ],
   "source": [
    "print(df.columns.values)"
   ]
  },
  {
   "cell_type": "markdown",
   "metadata": {},
   "source": [
    "#### Verificando a presença dos valores dos atributos"
   ]
  },
  {
   "cell_type": "code",
   "execution_count": 4,
   "metadata": {},
   "outputs": [
    {
     "name": "stdout",
     "output_type": "stream",
     "text": [
      "Tamanho do df:  55792\n"
     ]
    },
    {
     "data": {
      "text/plain": [
       "Rank              55792\n",
       "Name              55792\n",
       "basename          55792\n",
       "Genre             55792\n",
       "ESRB_Rating       23623\n",
       "Platform          55792\n",
       "Publisher         55792\n",
       "Developer         55775\n",
       "VGChartz_Score        0\n",
       "Critic_Score       6536\n",
       "User_Score          335\n",
       "Total_Shipped      1827\n",
       "Global_Sales      19415\n",
       "NA_Sales          12964\n",
       "PAL_Sales         13189\n",
       "JP_Sales           7043\n",
       "Other_Sales       15522\n",
       "Year              54813\n",
       "Last_Update        9186\n",
       "url               55792\n",
       "status            55792\n",
       "Vgchartzscore       799\n",
       "img_url           55792\n",
       "dtype: int64"
      ]
     },
     "execution_count": 4,
     "metadata": {},
     "output_type": "execute_result"
    }
   ],
   "source": [
    "print('Tamanho do df: ', len(df))\n",
    "df.count()"
   ]
  },
  {
   "cell_type": "markdown",
   "metadata": {},
   "source": [
    "## Limpeza e pré-processamento dos dados"
   ]
  },
  {
   "cell_type": "markdown",
   "metadata": {},
   "source": [
    "### Tirando colunas que estão vazias, com dados não necessários e com muitos dados faltantes"
   ]
  },
  {
   "cell_type": "code",
   "execution_count": 5,
   "metadata": {},
   "outputs": [],
   "source": [
    "df = df.drop([\"VGChartz_Score\", \"img_url\", \"url\", \"status\", \"Last_Update\", \"User_Score\", 'Total_Shipped', 'Vgchartzscore', 'NA_Sales', 'PAL_Sales', 'JP_Sales', 'Other_Sales', 'Rank', 'basename', 'Name'], axis=1)"
   ]
  },
  {
   "cell_type": "code",
   "execution_count": 6,
   "metadata": {},
   "outputs": [],
   "source": [
    "df.dropna(axis=0, subset=['Global_Sales', 'Developer', 'Year'], inplace=True)"
   ]
  },
  {
   "cell_type": "code",
   "execution_count": 7,
   "metadata": {},
   "outputs": [
    {
     "name": "stdout",
     "output_type": "stream",
     "text": [
      "Tamanho do df:  19374\n"
     ]
    },
    {
     "data": {
      "text/plain": [
       "Genre           19374\n",
       "ESRB_Rating     13790\n",
       "Platform        19374\n",
       "Publisher       19374\n",
       "Developer       19374\n",
       "Critic_Score     4273\n",
       "Global_Sales    19374\n",
       "Year            19374\n",
       "dtype: int64"
      ]
     },
     "execution_count": 7,
     "metadata": {},
     "output_type": "execute_result"
    }
   ],
   "source": [
    "print('Tamanho do df: ', len(df))\n",
    "df.count()"
   ]
  },
  {
   "cell_type": "markdown",
   "metadata": {},
   "source": [
    "### Excluir linhas que não possuem dados sobre crítica e ESRB_Rating"
   ]
  },
  {
   "cell_type": "code",
   "execution_count": 8,
   "metadata": {},
   "outputs": [
    {
     "name": "stdout",
     "output_type": "stream",
     "text": [
      "Tamanho do df:  4170\n"
     ]
    },
    {
     "data": {
      "text/plain": [
       "Genre           4170\n",
       "ESRB_Rating     4170\n",
       "Platform        4170\n",
       "Publisher       4170\n",
       "Developer       4170\n",
       "Critic_Score    4170\n",
       "Global_Sales    4170\n",
       "Year            4170\n",
       "dtype: int64"
      ]
     },
     "execution_count": 8,
     "metadata": {},
     "output_type": "execute_result"
    }
   ],
   "source": [
    "df.dropna(axis=0, subset=['Critic_Score', 'ESRB_Rating'], inplace=True)\n",
    "\n",
    "print('Tamanho do df: ', len(df))\n",
    "df.count()"
   ]
  },
  {
   "cell_type": "markdown",
   "metadata": {},
   "source": [
    "### Transformando valores descritivos (categóricos) em numéricos\n",
    "#### (Genre, ESRB_Rating, Platform, Publisher, Developer)"
   ]
  },
  {
   "cell_type": "code",
   "execution_count": 9,
   "metadata": {},
   "outputs": [
    {
     "data": {
      "text/plain": [
       "(4170, 1303)"
      ]
     },
     "execution_count": 9,
     "metadata": {},
     "output_type": "execute_result"
    }
   ],
   "source": [
    "df['Genre'] = pd.Categorical(df['Genre'])\n",
    "df['ESRB_Rating'] = pd.Categorical(df['ESRB_Rating'])\n",
    "df['Platform'] = pd.Categorical(df['Platform'])\n",
    "df['Publisher'] = pd.Categorical(df['Publisher'])\n",
    "df['Developer'] = pd.Categorical(df['Developer'])\n",
    "\n",
    "df_Genre_Dummies = pd.get_dummies(df['Genre'], prefix = 'Genre')\n",
    "df_ESBR_Dummies = pd.get_dummies(df['ESRB_Rating'], prefix = 'ESRB_Rating')\n",
    "df_Platform_Dummies = pd.get_dummies(df['Platform'], prefix = 'Platform')\n",
    "df_Publisher_Dummies = pd.get_dummies(df['Publisher'], prefix = 'Publisher')\n",
    "df_Developer_Dummies = pd.get_dummies(df['Developer'], prefix = 'Developer')\n",
    "\n",
    "df = pd.concat([df, df_Genre_Dummies], axis=1)\n",
    "df = pd.concat([df, df_ESBR_Dummies], axis=1)\n",
    "df = pd.concat([df, df_Platform_Dummies], axis=1)\n",
    "df = pd.concat([df, df_Publisher_Dummies], axis=1)\n",
    "df = pd.concat([df, df_Developer_Dummies], axis=1)\n",
    "\n",
    "df = df.drop(['Genre', 'ESRB_Rating', 'Platform', 'Publisher', 'Developer'], axis=1)\n",
    "\n",
    "df.shape"
   ]
  },
  {
   "cell_type": "markdown",
   "metadata": {},
   "source": [
    "### Transformando Global_Sales em Sales_Year"
   ]
  },
  {
   "cell_type": "code",
   "execution_count": 10,
   "metadata": {},
   "outputs": [],
   "source": [
    "Sales_Year = []\n",
    "for i in range(len(df)):\n",
    "    newValue = df.iloc[i]['Global_Sales'] / (2021 - df.iloc[i]['Year']) \n",
    "    Sales_Year.append(newValue)\n",
    "df['Sales_Year'] = Sales_Year\n",
    "df = df.drop(['Year', 'Global_Sales'], axis=1)"
   ]
  },
  {
   "cell_type": "markdown",
   "metadata": {},
   "source": [
    "### Removendo Outliers"
   ]
  },
  {
   "cell_type": "code",
   "execution_count": 11,
   "metadata": {
    "scrolled": true
   },
   "outputs": [
    {
     "name": "stdout",
     "output_type": "stream",
     "text": [
      "0.4925\n"
     ]
    }
   ],
   "source": [
    "df = df[df['Sales_Year'] < 0.5]\n",
    "print(max(df['Sales_Year']))"
   ]
  },
  {
   "cell_type": "markdown",
   "metadata": {},
   "source": [
    "### Separando os dados em teste e treino"
   ]
  },
  {
   "cell_type": "code",
   "execution_count": 12,
   "metadata": {},
   "outputs": [],
   "source": [
    "from sklearn.model_selection import train_test_split\n",
    "df_Y = df['Sales_Year']\n",
    "df_X = df.drop('Sales_Year', axis=1)\n",
    "df_X_train, df_X_test, df_Y_train, df_Y_test = train_test_split(df_X, df_Y)"
   ]
  },
  {
   "cell_type": "markdown",
   "metadata": {},
   "source": [
    "### Escalando os atributos"
   ]
  },
  {
   "cell_type": "code",
   "execution_count": 13,
   "metadata": {},
   "outputs": [],
   "source": [
    "from sklearn.preprocessing import MinMaxScaler\n",
    "scaler = MinMaxScaler(feature_range=(0, 1))\n",
    "\n",
    "df_X_train_scaled = scaler.fit_transform(df_X_train)\n",
    "df_X_train = pd.DataFrame(df_X_train_scaled)\n",
    "\n",
    "df_X_test_scaled = scaler.fit_transform(df_X_test)\n",
    "df_X_test = pd.DataFrame(df_X_test_scaled)"
   ]
  },
  {
   "cell_type": "markdown",
   "metadata": {},
   "source": [
    "### Executando algoritmo (ainda a trabalhar)"
   ]
  },
  {
   "cell_type": "code",
   "execution_count": 14,
   "metadata": {},
   "outputs": [],
   "source": [
    "#import required packages\n",
    "from sklearn import neighbors\n",
    "from sklearn.metrics import mean_squared_error \n",
    "from math import sqrt\n",
    "import matplotlib.pyplot as plt\n",
    "from sklearn.metrics import r2_score\n",
    "%matplotlib inline"
   ]
  },
  {
   "cell_type": "code",
   "execution_count": 15,
   "metadata": {},
   "outputs": [
    {
     "name": "stdout",
     "output_type": "stream",
     "text": [
      "RMSE value for k=  3 is: 0.06539590669875461 r2: 0.2632939471113602\n",
      "RMSE value for k=  6 is: 0.06450390515584918 r2: 0.28325425493665846\n",
      "RMSE value for k=  9 is: 0.06565270435727578 r2: 0.2574967697324314\n",
      "RMSE value for k=  12 is: 0.06508464994868439 r2: 0.2702900741396299\n"
     ]
    }
   ],
   "source": [
    "rmse_val = [] #to store rmse values for different k\n",
    "for K in range(3,14,3):\n",
    "    model = neighbors.KNeighborsRegressor(n_neighbors = K)\n",
    "\n",
    "    model.fit(df_X_train, df_Y_train)  #fit the model\n",
    "    pred=model.predict(df_X_test) #make prediction on test set\n",
    "    error = sqrt(mean_squared_error(df_Y_test,pred)) #calculate rmse\n",
    "    rmse_val.append(error) #store rmse values\n",
    "    print('RMSE value for k= ' , K , 'is:', error, 'r2:', r2_score(df_Y_test, pred))"
   ]
  },
  {
   "cell_type": "code",
   "execution_count": 16,
   "metadata": {},
   "outputs": [
    {
     "data": {
      "text/plain": [
       "<matplotlib.axes._subplots.AxesSubplot at 0x7f576327b320>"
      ]
     },
     "execution_count": 16,
     "metadata": {},
     "output_type": "execute_result"
    },
    {
     "data": {
      "image/png": "[encoded data removed]",
      "text/plain": [
       "<Figure size 432x288 with 1 Axes>"
      ]
     },
     "metadata": {
      "needs_background": "light"
     },
     "output_type": "display_data"
    }
   ],
   "source": [
    "#plotting the rmse values against k values\n",
    "curve = pd.DataFrame(rmse_val) #elbow curve \n",
    "curve.plot()"
   ]
  },
  {
   "cell_type": "code",
   "execution_count": 19,
   "metadata": {},
   "outputs": [
    {
     "ename": "NameError",
     "evalue": "name 'pre_error' is not defined",
     "output_type": "error",
     "traceback": [
      "\u001b[0;31m---------------------------------------------------------------------------\u001b[0m",
      "\u001b[0;31mNameError\u001b[0m                                 Traceback (most recent call last)",
      "\u001b[0;32m<ipython-input-19-34838751665b>\u001b[0m in \u001b[0;36m<module>\u001b[0;34m\u001b[0m\n\u001b[1;32m      1\u001b[0m \u001b[0;32mfrom\u001b[0m \u001b[0msklearn\u001b[0m\u001b[0;34m.\u001b[0m\u001b[0mmetrics\u001b[0m \u001b[0;32mimport\u001b[0m \u001b[0mr2_score\u001b[0m\u001b[0;34m\u001b[0m\u001b[0;34m\u001b[0m\u001b[0m\n\u001b[0;32m----> 2\u001b[0;31m \u001b[0mprint\u001b[0m\u001b[0;34m(\u001b[0m\u001b[0;34m'r2:'\u001b[0m\u001b[0;34m,\u001b[0m \u001b[0mr2_score\u001b[0m\u001b[0;34m(\u001b[0m\u001b[0mdf_Y_test\u001b[0m\u001b[0;34m,\u001b[0m \u001b[0mpre_error\u001b[0m\u001b[0;34m(\u001b[0m\u001b[0mdf_Y_test\u001b[0m\u001b[0;34m,\u001b[0m\u001b[0mpred\u001b[0m\u001b[0;34m)\u001b[0m\u001b[0;34m)\u001b[0m\u001b[0;34m)\u001b[0m \u001b[0;31m#calculate rmse\u001b[0m\u001b[0;34m\u001b[0m\u001b[0;34m\u001b[0m\u001b[0m\n\u001b[0m\u001b[1;32m      3\u001b[0m \u001b[0mprint\u001b[0m\u001b[0;34m(\u001b[0m\u001b[0;34m'rmse:'\u001b[0m\u001b[0;34m,\u001b[0m \u001b[0msqrt\u001b[0m\u001b[0;34m(\u001b[0m\u001b[0mmean_squared_error\u001b[0m\u001b[0;34m(\u001b[0m\u001b[0mdf_Y_test\u001b[0m\u001b[0;34m,\u001b[0m\u001b[0mpred\u001b[0m\u001b[0;34m)\u001b[0m\u001b[0;34m)\u001b[0m\u001b[0;34m)\u001b[0m \u001b[0;31m#calculate rmse\u001b[0m\u001b[0;34m\u001b[0m\u001b[0;34m\u001b[0m\u001b[0m\n",
      "\u001b[0;31mNameError\u001b[0m: name 'pre_error' is not defined"
     ]
    }
   ],
   "source": [
    "from sklearn.metrics import r2_score\n",
    "print('r2:', r2_score(df_Y_test, pre_error(df_Y_test,pred))) #calculate rmse\n",
    "print('rmse:', sqrt(mean_squared_error(df_Y_test,pred))) #calculate rmse"
   ]
  },
  {
   "cell_type": "code",
   "execution_count": null,
   "metadata": {},
   "outputs": [],
   "source": []
  },
  {
   "cell_type": "code",
   "execution_count": null,
   "metadata": {},
   "outputs": [],
   "source": []
  },
  {
   "cell_type": "code",
   "execution_count": null,
   "metadata": {},
   "outputs": [],
   "source": []
  },
  {
   "cell_type": "code",
   "execution_count": null,
   "metadata": {},
   "outputs": [],
   "source": []
  },
  {
   "cell_type": "code",
   "execution_count": null,
   "metadata": {},
   "outputs": [],
   "source": []
  }
 ],
 "metadata": {
  "kernelspec": {
   "display_name": "Python 3",
   "language": "python",
   "name": "python3"
  },
  "language_info": {
   "codemirror_mode": {
    "name": "ipython",
    "version": 3
   },
   "file_extension": ".py",
   "mimetype": "text/x-python",
   "name": "python",
   "nbconvert_exporter": "python",
   "pygments_lexer": "ipython3",
   "version": "3.6.8"
  }
 },
 "nbformat": 4,
 "nbformat_minor": 2
}
