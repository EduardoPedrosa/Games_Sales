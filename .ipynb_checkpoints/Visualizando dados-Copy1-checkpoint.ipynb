{
 "cells": [
  {
   "cell_type": "markdown",
   "metadata": {},
   "source": [
    "# Predição das vendas de um jogo usando Regressão Linear\n"
   ]
  },
  {
   "cell_type": "markdown",
   "metadata": {},
   "source": [
    "## O trabalho terá duas abordagens diferentes para comparações no futuro\n",
    "> 1) A primeira será preencher os dados faltantes com a média: Critic_Score, ESRB_Rating <br> <br>\n",
    "> 2) A segunda será remover todas as linhas que não possuem dados sobre a Critic_Score\n",
    "Ao final os dois resultados serão comparados"
   ]
  },
  {
   "cell_type": "markdown",
   "metadata": {},
   "source": [
    "## Segunda abordagem (Excluir linhas com dados faltantes de Critic_Score)"
   ]
  },
  {
   "cell_type": "markdown",
   "metadata": {},
   "source": [
    "## Obtendo e visualizando os dados"
   ]
  },
  {
   "cell_type": "markdown",
   "metadata": {},
   "source": [
    "### Importando o arquivo da base de dados"
   ]
  },
  {
   "cell_type": "code",
   "execution_count": 78,
   "metadata": {},
   "outputs": [],
   "source": [
    "import pandas as pd\n",
    "df = pd.read_csv('vgsales-12-4-2019.csv')"
   ]
  },
  {
   "cell_type": "markdown",
   "metadata": {},
   "source": [
    "### Dados sobre o atributo objetivo"
   ]
  },
  {
   "cell_type": "code",
   "execution_count": 79,
   "metadata": {},
   "outputs": [
    {
     "name": "stdout",
     "output_type": "stream",
     "text": [
      "Média de vendas:  0.3655029616276075\n",
      "Desvio padrão das vendas:  0.8330216180581668\n",
      "Número de jogos:  55792\n",
      "Número de jogos com dados sobre vendas:  19415\n"
     ]
    }
   ],
   "source": [
    "print('Média de vendas: ', df['Global_Sales'].mean())\n",
    "print('Desvio padrão das vendas: ', df['Global_Sales'].std())\n",
    "print('Número de jogos: ',len(df))\n",
    "print('Número de jogos com dados sobre vendas: ', len(df) - len(df[df['Global_Sales'].isnull()]))"
   ]
  },
  {
   "cell_type": "markdown",
   "metadata": {},
   "source": [
    "### Visualizando a estrutura da base de dados"
   ]
  },
  {
   "cell_type": "markdown",
   "metadata": {},
   "source": [
    "#### Colunas presentes na base de dados"
   ]
  },
  {
   "cell_type": "code",
   "execution_count": 80,
   "metadata": {},
   "outputs": [
    {
     "name": "stdout",
     "output_type": "stream",
     "text": [
      "['Rank' 'Name' 'basename' 'Genre' 'ESRB_Rating' 'Platform' 'Publisher'\n",
      " 'Developer' 'VGChartz_Score' 'Critic_Score' 'User_Score' 'Total_Shipped'\n",
      " 'Global_Sales' 'NA_Sales' 'PAL_Sales' 'JP_Sales' 'Other_Sales' 'Year'\n",
      " 'Last_Update' 'url' 'status' 'Vgchartzscore' 'img_url']\n"
     ]
    }
   ],
   "source": [
    "print(df.columns.values)"
   ]
  },
  {
   "cell_type": "markdown",
   "metadata": {},
   "source": [
    "#### Verificando a presença dos valores dos atributos"
   ]
  },
  {
   "cell_type": "code",
   "execution_count": 81,
   "metadata": {},
   "outputs": [
    {
     "name": "stdout",
     "output_type": "stream",
     "text": [
      "Tamanho do df:  55792\n"
     ]
    },
    {
     "data": {
      "text/plain": [
       "Rank              55792\n",
       "Name              55792\n",
       "basename          55792\n",
       "Genre             55792\n",
       "ESRB_Rating       23623\n",
       "Platform          55792\n",
       "Publisher         55792\n",
       "Developer         55775\n",
       "VGChartz_Score        0\n",
       "Critic_Score       6536\n",
       "User_Score          335\n",
       "Total_Shipped      1827\n",
       "Global_Sales      19415\n",
       "NA_Sales          12964\n",
       "PAL_Sales         13189\n",
       "JP_Sales           7043\n",
       "Other_Sales       15522\n",
       "Year              54813\n",
       "Last_Update        9186\n",
       "url               55792\n",
       "status            55792\n",
       "Vgchartzscore       799\n",
       "img_url           55792\n",
       "dtype: int64"
      ]
     },
     "execution_count": 81,
     "metadata": {},
     "output_type": "execute_result"
    }
   ],
   "source": [
    "print('Tamanho do df: ', len(df))\n",
    "df.count()"
   ]
  },
  {
   "cell_type": "markdown",
   "metadata": {},
   "source": [
    "## Limpeza e pré-processamento dos dados"
   ]
  },
  {
   "cell_type": "markdown",
   "metadata": {},
   "source": [
    "### Tirando colunas que estão vazias, com dados não necessários e com muitos dados faltantes"
   ]
  },
  {
   "cell_type": "code",
   "execution_count": 82,
   "metadata": {},
   "outputs": [],
   "source": [
    "df = df.drop([\"VGChartz_Score\", \"img_url\", \"url\", \"status\", \"Last_Update\", \"User_Score\", 'Total_Shipped', 'Vgchartzscore', 'NA_Sales', 'PAL_Sales', 'JP_Sales', 'Other_Sales', 'Rank', 'basename', 'Name'], axis=1)"
   ]
  },
  {
   "cell_type": "code",
   "execution_count": 83,
   "metadata": {},
   "outputs": [],
   "source": [
    "df.dropna(axis=0, subset=['Global_Sales', 'Developer', 'Year'], inplace=True)"
   ]
  },
  {
   "cell_type": "code",
   "execution_count": 84,
   "metadata": {},
   "outputs": [
    {
     "name": "stdout",
     "output_type": "stream",
     "text": [
      "Tamanho do df:  19374\n"
     ]
    },
    {
     "data": {
      "text/plain": [
       "Genre           19374\n",
       "ESRB_Rating     13790\n",
       "Platform        19374\n",
       "Publisher       19374\n",
       "Developer       19374\n",
       "Critic_Score     4273\n",
       "Global_Sales    19374\n",
       "Year            19374\n",
       "dtype: int64"
      ]
     },
     "execution_count": 84,
     "metadata": {},
     "output_type": "execute_result"
    }
   ],
   "source": [
    "print('Tamanho do df: ', len(df))\n",
    "df.count()"
   ]
  },
  {
   "cell_type": "markdown",
   "metadata": {},
   "source": [
    "### Excluir linhas que não possuem dados sobre crítica e ESRB_Rating"
   ]
  },
  {
   "cell_type": "code",
   "execution_count": 85,
   "metadata": {},
   "outputs": [
    {
     "name": "stdout",
     "output_type": "stream",
     "text": [
      "Tamanho do df:  4170\n"
     ]
    },
    {
     "data": {
      "text/plain": [
       "Genre           4170\n",
       "ESRB_Rating     4170\n",
       "Platform        4170\n",
       "Publisher       4170\n",
       "Developer       4170\n",
       "Critic_Score    4170\n",
       "Global_Sales    4170\n",
       "Year            4170\n",
       "dtype: int64"
      ]
     },
     "execution_count": 85,
     "metadata": {},
     "output_type": "execute_result"
    }
   ],
   "source": [
    "df.dropna(axis=0, subset=['Critic_Score', 'ESRB_Rating'], inplace=True)\n",
    "\n",
    "print('Tamanho do df: ', len(df))\n",
    "df.count()"
   ]
  },
  {
   "cell_type": "markdown",
   "metadata": {},
   "source": [
    "### Transformando valores descritivos (categóricos) em numéricos\n",
    "#### (Genre, ESRB_Rating, Platform, Publisher, Developer)"
   ]
  },
  {
   "cell_type": "code",
   "execution_count": 86,
   "metadata": {},
   "outputs": [
    {
     "data": {
      "text/plain": [
       "(4170, 1303)"
      ]
     },
     "execution_count": 86,
     "metadata": {},
     "output_type": "execute_result"
    }
   ],
   "source": [
    "df['Genre'] = pd.Categorical(df['Genre'])\n",
    "df['ESRB_Rating'] = pd.Categorical(df['ESRB_Rating'])\n",
    "df['Platform'] = pd.Categorical(df['Platform'])\n",
    "df['Publisher'] = pd.Categorical(df['Publisher'])\n",
    "df['Developer'] = pd.Categorical(df['Developer'])\n",
    "\n",
    "df_Genre_Dummies = pd.get_dummies(df['Genre'], prefix = 'Genre')\n",
    "df_ESBR_Dummies = pd.get_dummies(df['ESRB_Rating'], prefix = 'ESRB_Rating')\n",
    "df_Platform_Dummies = pd.get_dummies(df['Platform'], prefix = 'Platform')\n",
    "df_Publisher_Dummies = pd.get_dummies(df['Publisher'], prefix = 'Publisher')\n",
    "df_Developer_Dummies = pd.get_dummies(df['Developer'], prefix = 'Developer')\n",
    "\n",
    "df = pd.concat([df, df_Genre_Dummies], axis=1)\n",
    "df = pd.concat([df, df_ESBR_Dummies], axis=1)\n",
    "df = pd.concat([df, df_Platform_Dummies], axis=1)\n",
    "df = pd.concat([df, df_Publisher_Dummies], axis=1)\n",
    "df = pd.concat([df, df_Developer_Dummies], axis=1)\n",
    "\n",
    "df = df.drop(['Genre', 'ESRB_Rating', 'Platform', 'Publisher', 'Developer'], axis=1)\n",
    "\n",
    "df.shape"
   ]
  },
  {
   "cell_type": "markdown",
   "metadata": {},
   "source": [
    "### Removendo Outliers"
   ]
  },
  {
   "cell_type": "code",
   "execution_count": 87,
   "metadata": {
    "scrolled": true
   },
   "outputs": [
    {
     "name": "stdout",
     "output_type": "stream",
     "text": [
      "3.99\n"
     ]
    }
   ],
   "source": [
    "df = df[df['Global_Sales'] < 4]\n",
    "print(max(df['Global_Sales']))"
   ]
  },
  {
   "cell_type": "markdown",
   "metadata": {},
   "source": [
    "### Transformando valores contínuos em classes\n",
    "#### Transformar todos os dados de Global_Sales para classes, de 0 a 1, 1 a 2, assim por diante. A última classe será para valores maiores que 20"
   ]
  },
  {
   "cell_type": "code",
   "execution_count": 88,
   "metadata": {},
   "outputs": [
    {
     "name": "stdout",
     "output_type": "stream",
     "text": [
      "0.1    1518\n",
      "0.3     787\n",
      "0.5     502\n",
      "0.7     325\n",
      "0.9     221\n",
      "1.1     166\n",
      "1.3      95\n",
      "1.5      67\n",
      "1.7      52\n",
      "2.1      50\n",
      "1.9      42\n",
      "2.7      32\n",
      "2.3      32\n",
      "2.5      31\n",
      "2.9      25\n",
      "3.5      25\n",
      "3.1      21\n",
      "3.7      20\n",
      "3.3      13\n",
      "3.9      12\n",
      "Name: Global_Sales, dtype: int64\n"
     ]
    }
   ],
   "source": [
    "import math\n",
    "newColumn = []\n",
    "oldColumn = df['Global_Sales']\n",
    "for i in range(len(oldColumn)):\n",
    "    value = oldColumn.iloc[i]\n",
    "    intValue = math.floor(value)\n",
    "    aux = value-intValue\n",
    "    result = 0.9\n",
    "    if(aux < 0.2):\n",
    "        result = 0.1\n",
    "    elif(aux < 0.4):\n",
    "        result = 0.3\n",
    "    elif(aux < 0.6):\n",
    "        result = 0.5\n",
    "    elif(aux < 0.8):\n",
    "        result = 0.7\n",
    "    res = str(intValue + result)\n",
    "    newColumn.append(res) \n",
    "df['Global_Sales'] = newColumn\n",
    "print(df['Global_Sales'].value_counts())"
   ]
  },
  {
   "cell_type": "markdown",
   "metadata": {},
   "source": [
    "### Separando os dados em teste e treino"
   ]
  },
  {
   "cell_type": "code",
   "execution_count": 89,
   "metadata": {},
   "outputs": [],
   "source": [
    "from sklearn.model_selection import train_test_split\n",
    "df_Y = df['Global_Sales']\n",
    "df_X = df.drop('Global_Sales', axis=1)\n",
    "df_X_train, df_X_test, df_Y_train, df_Y_test = train_test_split(df_X, df_Y)"
   ]
  },
  {
   "cell_type": "markdown",
   "metadata": {},
   "source": [
    "### Escalando os atributos"
   ]
  },
  {
   "cell_type": "code",
   "execution_count": 90,
   "metadata": {},
   "outputs": [],
   "source": [
    "from sklearn.preprocessing import MinMaxScaler\n",
    "scaler = MinMaxScaler(feature_range=(0, 1))\n",
    "\n",
    "df_X_train_scaled = scaler.fit_transform(df_X_train)\n",
    "df_X_train = pd.DataFrame(df_X_train_scaled)\n",
    "\n",
    "df_X_test_scaled = scaler.fit_transform(df_X_test)\n",
    "df_X_test = pd.DataFrame(df_X_test_scaled)"
   ]
  },
  {
   "cell_type": "markdown",
   "metadata": {},
   "source": [
    "### Executando algoritmo (ainda a trabalhar)"
   ]
  },
  {
   "cell_type": "code",
   "execution_count": 36,
   "metadata": {},
   "outputs": [],
   "source": [
    "#import required packages\n",
    "from sklearn import neighbors\n",
    "from sklearn.metrics import mean_squared_error \n",
    "from math import sqrt\n",
    "import matplotlib.pyplot as plt\n",
    "%matplotlib inline"
   ]
  },
  {
   "cell_type": "code",
   "execution_count": 39,
   "metadata": {},
   "outputs": [
    {
     "name": "stdout",
     "output_type": "stream",
     "text": [
      "RMSE value for k=  1 is: 0.7283952656578059\n",
      "RMSE value for k=  2 is: 0.6584612058154411\n",
      "RMSE value for k=  3 is: 0.626693490277763\n",
      "RMSE value for k=  4 is: 0.6245673328954365\n",
      "RMSE value for k=  5 is: 0.6099120767192986\n",
      "RMSE value for k=  6 is: 0.597830627427542\n",
      "RMSE value for k=  7 is: 0.595640326977771\n",
      "RMSE value for k=  8 is: 0.5956948092859364\n",
      "RMSE value for k=  9 is: 0.5924092717399235\n",
      "RMSE value for k=  10 is: 0.5868530172245602\n",
      "RMSE value for k=  11 is: 0.5858328203288934\n",
      "RMSE value for k=  12 is: 0.5828509231604644\n",
      "RMSE value for k=  13 is: 0.579735777286749\n",
      "RMSE value for k=  14 is: 0.5798486321417676\n",
      "RMSE value for k=  15 is: 0.5832783184213579\n",
      "RMSE value for k=  16 is: 0.5826419407331899\n",
      "RMSE value for k=  17 is: 0.5829093603782579\n",
      "RMSE value for k=  18 is: 0.5829395168303455\n",
      "RMSE value for k=  19 is: 0.584254974974775\n",
      "RMSE value for k=  20 is: 0.5840310238918702\n"
     ]
    }
   ],
   "source": [
    "rmse_val = [] #to store rmse values for different k\n",
    "for K in range(20):\n",
    "    K = K+1\n",
    "    model = neighbors.KNeighborsRegressor(n_neighbors = K)\n",
    "\n",
    "    model.fit(df_X_train, df_Y_train)  #fit the model\n",
    "    pred=model.predict(df_X_test) #make prediction on test set\n",
    "    error = sqrt(mean_squared_error(df_Y_test,pred)) #calculate rmse\n",
    "    rmse_val.append(error) #store rmse values\n",
    "    print('RMSE value for k= ' , K , 'is:', error)"
   ]
  },
  {
   "cell_type": "code",
   "execution_count": 40,
   "metadata": {},
   "outputs": [
    {
     "data": {
      "text/plain": [
       "<matplotlib.axes._subplots.AxesSubplot at 0x7fc912772ac8>"
      ]
     },
     "execution_count": 40,
     "metadata": {},
     "output_type": "execute_result"
    },
    {
     "data": {
      "image/png": "[encoded data removed]",
      "text/plain": [
       "<Figure size 432x288 with 1 Axes>"
      ]
     },
     "metadata": {
      "needs_background": "light"
     },
     "output_type": "display_data"
    }
   ],
   "source": [
    "#plotting the rmse values against k values\n",
    "curve = pd.DataFrame(rmse_val) #elbow curve \n",
    "curve.plot()"
   ]
  },
  {
   "cell_type": "code",
   "execution_count": 41,
   "metadata": {},
   "outputs": [],
   "source": [
    "model = neighbors.KNeighborsRegressor(n_neighbors = 12)\n",
    "\n",
    "model.fit(df_X_train, df_Y_train)  #fit the model\n",
    "pred=model.predict(df_X_test) #make prediction on test set"
   ]
  },
  {
   "cell_type": "code",
   "execution_count": 42,
   "metadata": {},
   "outputs": [
    {
     "name": "stdout",
     "output_type": "stream",
     "text": [
      "r2: 0.2769227112342594\n",
      "rmse: 0.5828509231604644\n"
     ]
    }
   ],
   "source": [
    "from sklearn.metrics import r2_score\n",
    "print('r2:', r2_score(df_Y_test, pred))\n",
    "print('rmse:', sqrt(mean_squared_error(df_Y_test,pred))) #calculate rmse"
   ]
  },
  {
   "cell_type": "code",
   "execution_count": null,
   "metadata": {},
   "outputs": [],
   "source": []
  }
 ],
 "metadata": {
  "kernelspec": {
   "display_name": "Python 3",
   "language": "python",
   "name": "python3"
  },
  "language_info": {
   "codemirror_mode": {
    "name": "ipython",
    "version": 3
   },
   "file_extension": ".py",
   "mimetype": "text/x-python",
   "name": "python",
   "nbconvert_exporter": "python",
   "pygments_lexer": "ipython3",
   "version": "3.6.8"
  }
 },
 "nbformat": 4,
 "nbformat_minor": 2
}
